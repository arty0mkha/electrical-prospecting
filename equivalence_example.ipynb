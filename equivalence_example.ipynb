{
 "cells": [
  {
   "cell_type": "code",
   "execution_count": 1,
   "metadata": {
    "id": "N1cnW7gu48mf"
   },
   "outputs": [
    {
     "name": "stdout",
     "output_type": "stream",
     "text": [
      "direct_problem was imported\n",
      "inverse_problem was imported\n",
      "sensivity was imported\n"
     ]
    }
   ],
   "source": [
    "import matplotlib.pyplot as plt\n",
    "import numpy as np\n",
    "import scipy as sp\n",
    "from code_folder.inverse_problem import RMSPE\n",
    "from code_folder.sensitivity import matrix_models"
   ]
  },
  {
   "cell_type": "markdown",
   "metadata": {},
   "source": [
    "Задаём $n^2$ моделей и считаем каждую"
   ]
  },
  {
   "cell_type": "code",
   "execution_count": 2,
   "metadata": {
    "colab": {
     "base_uri": "https://localhost:8080/"
    },
    "id": "VNwm2GKl0kl-",
    "outputId": "4f8cddd8-0432-401f-acfb-c08e49ef07db"
   },
   "outputs": [],
   "source": [
    "r=np.logspace(-1,2,100)\n",
    "param0=[100,10,20,5,50]\n",
    "resist =matrix_models(param0, 2, 21, 'U')"
   ]
  },
  {
   "cell_type": "code",
   "execution_count": 3,
   "metadata": {},
   "outputs": [
    {
     "data": {
      "application/vnd.jupyter.widget-view+json": {
       "model_id": "ba238acd04ca485a9edf2e3c5a87da3a",
       "version_major": 2,
       "version_minor": 0
      },
      "text/plain": [
       "  0%|          | 0/21 [00:00<?, ?it/s]"
      ]
     },
     "metadata": {},
     "output_type": "display_data"
    },
    {
     "data": {
      "application/vnd.jupyter.widget-view+json": {
       "model_id": "c64ee7beadf048f680284373634b81ce",
       "version_major": 2,
       "version_minor": 0
      },
      "text/plain": [
       "  0%|          | 0/21 [00:00<?, ?it/s]"
      ]
     },
     "metadata": {},
     "output_type": "display_data"
    },
    {
     "data": {
      "application/vnd.jupyter.widget-view+json": {
       "model_id": "3424a50df924402a852e2eb5d6df5d76",
       "version_major": 2,
       "version_minor": 0
      },
      "text/plain": [
       "  0%|          | 0/21 [00:00<?, ?it/s]"
      ]
     },
     "metadata": {},
     "output_type": "display_data"
    }
   ],
   "source": [
    "%%timeit\n",
    "matrix_models(param0, 2, 21, 'U')"
   ]
  },
  {
   "cell_type": "code",
   "execution_count": null,
   "metadata": {
    "id": "-zMHIBy7TSx9"
   },
   "outputs": [],
   "source": [
    "matrix = []\n",
    "for i in range(51):\n",
    "  prikol = []\n",
    "  for j in range(51):\n",
    "    prikol.append(RMSPE(resist[i][j],resist[10][10]))\n",
    "  matrix.append(np.array(prikol))\n",
    "matrix = np.array(matrix)"
   ]
  },
  {
   "cell_type": "markdown",
   "metadata": {},
   "source": [
    "Визуализация"
   ]
  },
  {
   "cell_type": "code",
   "execution_count": null,
   "metadata": {
    "colab": {
     "base_uri": "https://localhost:8080/",
     "height": 452
    },
    "id": "YFX8hQ7-UG8o",
    "outputId": "c61dbc9f-5904-448f-f6e7-ceb9e581d7b0"
   },
   "outputs": [],
   "source": [
    "plt.imshow(matrix, cmap='turbo')\n",
    "plt.colorbar(label='%')\n",
    "plt.title('Эквивалентность')"
   ]
  }
 ],
 "metadata": {
  "colab": {
   "provenance": []
  },
  "kernelspec": {
   "display_name": "Python 3 (ipykernel)",
   "language": "python",
   "name": "python3"
  },
  "language_info": {
   "codemirror_mode": {
    "name": "ipython",
    "version": 3
   },
   "file_extension": ".py",
   "mimetype": "text/x-python",
   "name": "python",
   "nbconvert_exporter": "python",
   "pygments_lexer": "ipython3",
   "version": "3.12.0"
  }
 },
 "nbformat": 4,
 "nbformat_minor": 1
}
