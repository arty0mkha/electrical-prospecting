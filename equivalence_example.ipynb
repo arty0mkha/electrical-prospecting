{
 "cells": [
  {
   "cell_type": "code",
   "execution_count": null,
   "metadata": {
    "id": "N1cnW7gu48mf",
    "scrolled": true
   },
   "outputs": [],
   "source": [
    "import matplotlib.pyplot as plt\n",
    "import numpy as np\n",
    "import scipy as sp\n",
    "from code_folder.inverse_problem import RMSPE\n",
    "from code_folder.sensitivity import matrix_models"
   ]
  },
  {
   "cell_type": "code",
   "execution_count": null,
   "metadata": {},
   "outputs": [],
   "source": [
    "r = np.logspace(-1,3,50)\n",
    "param0 = [100,10,20,5,50]\n",
    "n = 5"
   ]
  },
  {
   "cell_type": "code",
   "execution_count": null,
   "metadata": {},
   "outputs": [],
   "source": [
    "(3*60+34)/(4*60+47)"
   ]
  },
  {
   "cell_type": "markdown",
   "metadata": {},
   "source": [
    "Задаём $n^2$ моделей и считаем каждую"
   ]
  },
  {
   "cell_type": "code",
   "execution_count": null,
   "metadata": {
    "colab": {
     "base_uri": "https://localhost:8080/"
    },
    "id": "VNwm2GKl0kl-",
    "outputId": "4f8cddd8-0432-401f-acfb-c08e49ef07db"
   },
   "outputs": [],
   "source": [
    "\n",
    "# dh и drho у второго слоя\n",
    "resist = matrix_models(r, param0, (2,3), n, 'U')\n",
    "matrix1 = []\n",
    "for i in range(n):\n",
    "  prikol = []\n",
    "  for j in range(n):\n",
    "    prikol.append(RMSPE(resist[i][j],resist[int((n-1)/2)][int((n-1)/2)]))\n",
    "  matrix1.append(np.array(prikol))\n",
    "matrix1 = np.array(matrix1)\n",
    "plt.imshow(matrix1)\n"
   ]
  },
  {
   "cell_type": "code",
   "execution_count": null,
   "metadata": {
    "id": "-zMHIBy7TSx9"
   },
   "outputs": [],
   "source": [
    "# drho у первого и третьего слоёв\n",
    "resist = matrix_models(r, param0, (0,4), n, 'U')\n",
    "matrix2 = []\n",
    "for i in range(n):\n",
    "  prikol = []\n",
    "  for j in range(n):\n",
    "    prikol.append(RMSPE(resist[i][j],resist[int((n-1)/2)][int((n-1)/2)]))\n",
    "  matrix2.append(np.array(prikol))\n",
    "matrix2 = np.array(matrix2)"
   ]
  },
  {
   "cell_type": "code",
   "execution_count": null,
   "metadata": {},
   "outputs": [],
   "source": [
    "# dh и drho у первого слоя\n",
    "resist = matrix_models(r, param0, (0,1), n, 'U')\n",
    "matrix3 = []\n",
    "for i in range(n):\n",
    "  prikol = []\n",
    "  for j in range(n):\n",
    "    prikol.append(RMSPE(resist[i][j],resist[int((n-1)/2)][int((n-1)/2)]))\n",
    "  matrix3.append(np.array(prikol))\n",
    "matrix3 = np.array(matrix3)"
   ]
  },
  {
   "cell_type": "code",
   "execution_count": null,
   "metadata": {},
   "outputs": [],
   "source": [
    "# dh у первого и второго слоёв\n",
    "resist = matrix_models(r, param0, (1,3), n, 'U')\n",
    "matrix4 = []\n",
    "for i in range(n):\n",
    "  prikol = []\n",
    "  for j in range(n):\n",
    "    prikol.append(RMSPE(resist[i][j],resist[int((n-1)/2)][int((n-1)/2)]))\n",
    "  matrix4.append(np.array(prikol))\n",
    "matrix4 = np.array(matrix4)"
   ]
  },
  {
   "cell_type": "code",
   "execution_count": null,
   "metadata": {},
   "outputs": [],
   "source": [
    "# drho у второго и третьего слоёв\n",
    "resist = matrix_models(r, param0, (2,4), n, 'U')\n",
    "matrix5 = []\n",
    "for i in range(n):\n",
    "  prikol = []\n",
    "  for j in range(n):\n",
    "    prikol.append(RMSPE(resist[i][j],resist[int((n-1)/2)][int((n-1)/2)]))\n",
    "  matrix5.append(np.array(prikol))\n",
    "matrix5 = np.array(matrix5)"
   ]
  },
  {
   "cell_type": "code",
   "execution_count": null,
   "metadata": {},
   "outputs": [],
   "source": [
    "# dh и drho у второго и третьего слоёв соответственно\n",
    "resist = matrix_models(r, param0, (3,4), n, 'U')\n",
    "matrix6 = []\n",
    "for i in range(n):\n",
    "  prikol = []\n",
    "  for j in range(n):\n",
    "    prikol.append(RMSPE(resist[i][j],resist[int((n-1)/2)][int((n-1)/2)]))\n",
    "  matrix6.append(np.array(prikol))\n",
    "matrix6 = np.array(matrix6)"
   ]
  },
  {
   "cell_type": "markdown",
   "metadata": {},
   "source": [
    "Визуализация"
   ]
  },
  {
   "cell_type": "code",
   "execution_count": null,
   "metadata": {},
   "outputs": [],
   "source": [
    "matrix = [[matrix1, matrix2, matrix3],[matrix4,matrix5,matrix6]]"
   ]
  },
  {
   "cell_type": "code",
   "execution_count": null,
   "metadata": {
    "colab": {
     "base_uri": "https://localhost:8080/",
     "height": 452
    },
    "id": "YFX8hQ7-UG8o",
    "outputId": "c61dbc9f-5904-448f-f6e7-ceb9e581d7b0"
   },
   "outputs": [],
   "source": [
    "nrows, ncols = 3,2\n",
    "fig, axs = plt.subplots(nrows=nrows, ncols=ncols, figsize=(20, 20))\n",
    "for i in range(nrows):\n",
    "  for j in range(ncols):\n",
    "    im = axs[i,j].imshow(matrix[j][i], aspect='auto', extent=[0.1, 10, 0.1, 10])\n",
    "    plt.colorbar(im, ax=axs[i,j])\n",
    "axs[0,0].set_title('dh и drho у второго слоя')\n",
    "axs[0,0].set_xlabel('drho')\n",
    "axs[0,0].set_ylabel('dh')\n",
    "axs[0,1].set_title('dh у первого и второго слоёв')\n",
    "axs[0,1].set_xlabel('dh')\n",
    "axs[0,1].set_ylabel('dh')\n",
    "axs[1,0].set_title('drho у первого и третьего слоёв')\n",
    "axs[1,0].set_xlabel('drho')\n",
    "axs[1,0].set_ylabel('drho')\n",
    "axs[1,1].set_title('drho у второго и третьего слоёв')\n",
    "axs[1,1].set_xlabel('drho')\n",
    "axs[1,1].set_ylabel('drho')\n",
    "axs[2,0].set_title('dh и drho у первого слоя')\n",
    "axs[2,0].set_xlabel('drho')\n",
    "axs[2,0].set_ylabel('dh')\n",
    "axs[2,1].set_title('drho и dh у второго и третьего слоёв соответственно')\n",
    "axs[2,1].set_xlabel('drho')\n",
    "axs[2,1].set_ylabel('dh')\n",
    "plt.show()"
   ]
  }
 ],
 "metadata": {
  "colab": {
   "provenance": []
  },
  "kernelspec": {
   "display_name": "Python 3 (ipykernel)",
   "language": "python",
   "name": "python3"
  },
  "language_info": {
   "codemirror_mode": {
    "name": "ipython",
    "version": 3
   },
   "file_extension": ".py",
   "mimetype": "text/x-python",
   "name": "python",
   "nbconvert_exporter": "python",
   "pygments_lexer": "ipython3",
   "version": "3.12.0"
  }
 },
 "nbformat": 4,
 "nbformat_minor": 1
}
