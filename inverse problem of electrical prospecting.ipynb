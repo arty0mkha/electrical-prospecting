{
 "cells": [
  {
   "cell_type": "code",
   "execution_count": 3,
   "metadata": {},
   "outputs": [],
   "source": [
    "import scipy as sp\n",
    "import numpy as np"
   ]
  },
  {
   "cell_type": "markdown",
   "metadata": {},
   "source": [
    "Обратная задача с использованием решения прямой задачи"
   ]
  },
  {
   "cell_type": "code",
   "execution_count": null,
   "metadata": {},
   "outputs": [],
   "source": [
    "def Loss_direct(param: np.ndarray,\n",
    "         loss_type : str,\n",
    "         function_type: str,\n",
    "         data: np.ndarray\n",
    "         ) -> float:\n",
    "    ''' Возвращает значение ошибки loss_type для среды с параметрами param и данных data, полученных для function_type\n",
    "    \n",
    "    parameters\n",
    "    ----------\n",
    "    param: numpy.ndarray\n",
    "        Массив параметров среды формой (2N-1), ultN -количество слоёв в модели. param[2*(i-1)]=rhoa_i, i=1, ..., N; param[2*(i-1)+1] = thickness_i, i=1, ..., N-1\n",
    "    loss_type: str\n",
    "        Тип целевой функции\n",
    "    function_type: str\n",
    "        Тип минимизируемой функции: 'rhoa' - кажущееся сопротивление, 'u' - разность потенциалов, 'E' - электрическое поле    \n",
    "    data: numpy.ndarray\n",
    "        Массив формы (K,2), K = количество точек, data[i]=[r_i, f_i], r_i - полуразнос, f_i -измеренное значение    \n",
    "    '''\n",
    "    if loss_type == 'RSME':\n",
    "        s = 0\n",
    "        K = data.shape[0]\n",
    "        # считаем сумму квадратов разности значений\n",
    "        for i in range(K):\n",
    "            s += np.square(data[i][1] - direct_problem(function_type, param, data[i][0])) # direct_problem - функция решающая прямую задачу для function_type в среде param и возвращающая значение function_type в точке r_i\n",
    "        # возвращаем RMSE\n",
    "        return np.sqrt(s/K)"
   ]
  },
  {
   "cell_type": "code",
   "execution_count": null,
   "metadata": {},
   "outputs": [],
   "source": [
    "def inverse_problem(N_list : list,\n",
    "                    function_type : str,\n",
    "                    data : np.ndarray,\n",
    "                    minimization_method : str = 'COBYLA',\n",
    "                    loss_type : str = 'RSME',\n",
    "                    thickness_max : float =10**3,\n",
    "                    tolerance : float = 10**(-5)\n",
    "                    ):\n",
    "    '''Возвращает list из N_list[i]-слойных моделей в виде объекта класса scipy.optimize.OptimizeResult и индекс модели с минимальной ошибкой\n",
    "    \n",
    "    parameters\n",
    "    ----------\n",
    "    N_list: list\n",
    "        Список из числа слоёв в моделях, среди которых будет происходить подбор наиболее подходящей  \n",
    "    function_type: str\n",
    "        Тип минимизируемой функции: 'rhoa' - кажущееся сопротивление, 'u' - разность потенциалов, 'E' - электрическое поле    \n",
    "    data: numpy.ndarray\n",
    "        Массив формы (K,2), K = количество измерений, data[i]=[r_i,f_i], r_i - полуразнос, f_i -измеренное значение\n",
    "    minimization_method: str, optional\n",
    "        Метод оптимизации для scipy.optimize.minimize. \\n\n",
    "        Доступные варианты: 'Nelder-Mead', 'Powell', 'CG', 'BFGS', 'L-BFGS-B', 'TNC', 'COBYLA', 'SLSQP', 'trust-constr'\n",
    "    loss_type: str, optional\n",
    "        Тип целевой функции\n",
    "    thickness_max: float, optional\n",
    "        Максимальная мощность слоёв в модели\n",
    "    tolerance: float, optional\n",
    "        tolerance для scipy.optimize.minimize\n",
    "    '''\n",
    "    # создание списков подобранных моделей и ошибокs\n",
    "    results_list = []\n",
    "    results_losses = []\n",
    "\n",
    "    # ограничение на максимальное сопротивление слоёв\n",
    "    rhoa_max = 2*max(data[:][1])\n",
    "    \n",
    "    for N in N_list:\n",
    "\n",
    "        # Создание ограничений на rhoa, thickness для каждого слоя в scipy.optimize.minimize\n",
    "        boundaries = []\n",
    "        for i in range(N):\n",
    "            boundaries.append((0,rhoa_max))\n",
    "            boundaries.append((0,thickness_max))\n",
    "        boundaries = tuple(boundaries[:-1])\n",
    "        \n",
    "        # Создание начальных значений rhoa, thickness для минимизации\n",
    "        start_param=np.matmul(np.ones(shape=(N,1)).T*np.array([[rhoa_max/4, thickness_max/2]])).reshape(-1)\n",
    "        \n",
    "        # минимизация\n",
    "        result = sp.optimize.minimize(fun = Loss_direct,\n",
    "                                      x0 = start_param,\n",
    "                                      args = (loss_type, function_type, data),\n",
    "                                      method = minimization_method,\n",
    "                                      bounds = boundaries, \n",
    "                                      tol = tolerance\n",
    "                                      )\n",
    "        \n",
    "        # подобранные параметры записываются в список\n",
    "        results_list.append(result)\n",
    "        \n",
    "        # ошибка записывается в список\n",
    "        results_losses.append(result.fun)\n",
    "\n",
    "    # возвращается модели и номер с минимальным значением ошибки loss_type\n",
    "    return results_list, np.where(results_losses == np.min(results_losses))[0][0]       "
   ]
  },
  {
   "cell_type": "markdown",
   "metadata": {},
   "source": [
    "Обратная задача с использованием обобщения двухслойной модели"
   ]
  },
  {
   "cell_type": "code",
   "execution_count": 4,
   "metadata": {},
   "outputs": [],
   "source": [
    "def rhoa (r : np.ndarray,\n",
    "          rho1 : float,\n",
    "          rho2,\n",
    "          h :float\n",
    "          ) -> np.ndarray :\n",
    "    ''' Возвращает значение кажущегося сопротивления на поверхности для двухслойной модели с сопротивлениями rho1, rho2 и мощностью первого слоя h при полуразносе r\n",
    "\n",
    "    parameters\n",
    "    ----------\n",
    "    r: numpy.ndarray\n",
    "        Полуразнос установки\n",
    "    rho1: float\n",
    "        Сопротивление верхнего слоя\n",
    "    rho2: float или numpy.ndarray\n",
    "        Сопротивление нижнего слоя. \\n Если массив, то должен быть той же длины, что и r\n",
    "    h: float\n",
    "        мощность верхнего слоя   \n",
    "    '''\n",
    "    s = 0\n",
    "    maxJ = 100\n",
    "    for j in range (1, maxJ) :\n",
    "        k12 = (rho2-rho1)/(rho2+rho1)\n",
    "        s +=  r**3*k12**j /(r**2 + (2*j*h)**2)**(3/2)\n",
    "    return rho1*(1 +2*s)\n",
    "\n",
    "def aprox_rhoa_N_layers(r : np.ndarray,\n",
    "                        param : np.ndarray\n",
    "                        ) -> np.ndarray:\n",
    "    ''' Возвращает значение кажущегося сопротивления на поверхности для N-слойной модели param при полуразносе r используя двухслойную модель\n",
    "\n",
    "    parameters\n",
    "    ----------\n",
    "    r: numpy.ndarray\n",
    "        Полуразнос установки\n",
    "    param: numpy.ndarray\n",
    "        Массив параметров среды формой (2N-1), ultN -количество слоёв в модели. param[2*(i-1)]=rhoa_i, i=1, ..., N; param[2*(i-1)+1] = thickness_i, i=1, ..., N-1\n",
    "    '''\n",
    "    N=int((param.shape[0]+1)/2) \n",
    "    if N != 1:\n",
    "        # Сопротивление слоёв пересчитываются снизу вверх как кажущиеся сопротивления в двух-слойной модели \n",
    "        rk=rhoa(r,param[2*((N-2))], param[2*(N-1)], param[2*((N-1))-1])\n",
    "        for i in range(1,N-1):\n",
    "            rk=rhoa(r,param[2*((N-2-i))], rk, param[2*(N-2-i)+1])\n",
    "        # Возвращаем кажущееся сопротивдение на поверхности\n",
    "        return rk\n",
    "    else:\n",
    "        return param[0]"
   ]
  },
  {
   "cell_type": "code",
   "execution_count": 5,
   "metadata": {},
   "outputs": [],
   "source": [
    "def loss_N_layers(param : np.ndarray,\n",
    "                  loss_type: str,\n",
    "                  data : np.ndarray\n",
    "                  ) -> float:\n",
    "    ''' Возвращает значение ошибки loss_type для N-слойной модели param и данных data, полученных для кажущегося сопротивления\n",
    "    \n",
    "    parameters\n",
    "    ----------\n",
    "    param: numpy.ndarray\n",
    "        Массив параметров среды формой (2N-1), ultN -количество слоёв в модели. param[2*(i-1)]=rhoa_i, i=1, ..., N; param[2*(i-1)+1] = thickness_i, i=1, ..., N-1  \n",
    "    loss_type: str\n",
    "        Тип целевой функции       \n",
    "    data: numpy.ndarray\n",
    "        Массив формы (K,2), K = количество точек, data[i]=[r_i, f_i], r_i - полуразнос, f_i -измеренное значение    \n",
    "    '''\n",
    "    if loss_type == 'RSME':\n",
    "        s = 0\n",
    "        K = data.shape[0]\n",
    "        # считаем сумму квадратов разности значений\n",
    "        for i in range(K):\n",
    "            s += np.square(data[i][1] - aprox_rhoa_N_layers(data[i][0], param))\n",
    "        # возвращаем RMSE\n",
    "        return np.sqrt(s/K)"
   ]
  },
  {
   "cell_type": "code",
   "execution_count": 6,
   "metadata": {},
   "outputs": [],
   "source": [
    "def approx_inverse_problem(N_list : list,\n",
    "                    data : np.ndarray,\n",
    "                    minimization_method : str = 'COBYLA',\n",
    "                    loss_type : str = 'RSME',\n",
    "                    thickness_max : float =10**2,\n",
    "                    tolerance : float = 10**(-5)\n",
    "                    ):\n",
    "    '''Возвращает list из N_list[i]-слойных моделей в виде объекта класса scipy.optimize.OptimizeResult и индекс модели с минимальной ошибкой\n",
    "    \n",
    "    parameters\n",
    "    ----------\n",
    "    N_list: list\n",
    "        Список из числа слоёв в моделях, среди которых будет происходить подбор наиболее подходящей  \n",
    "    data: numpy.ndarray\n",
    "        Массив формы (K,2), K = количество измерений, data[i]=[r_i,f_i], r_i - полуразнос, f_i -измеренное значение\n",
    "    minimization_method: str, optional\n",
    "        Метод оптимизации для scipy.optimize.minimize. \\n\n",
    "        Доступные варианты: 'Nelder-Mead', 'Powell', 'CG', 'BFGS', 'L-BFGS-B', 'TNC', 'COBYLA', 'SLSQP', 'trust-constr'\n",
    "    loss_type: str, optional\n",
    "        Тип целевой функции\n",
    "    thickness_max: float, optional\n",
    "        Максимальная мощность слоёв в модели\n",
    "    tolerance: float, optional\n",
    "        tolerance для scipy.opnimize.minimize\n",
    "    '''\n",
    "    # создание списков подобранных моделей и их ошибок\n",
    "    results_list = []\n",
    "    results_losses = []\n",
    "\n",
    "    # ограничение на максимальное сопротивление слоёв\n",
    "    rhoa_max = 2*max(data[:][1])\n",
    "    \n",
    "    for N in N_list:\n",
    "\n",
    "        # Создание ограничений на rhoa, thickness для каждого слоя в scipy.optimize.minimize\n",
    "        boundaries = []\n",
    "        for i in range(N):\n",
    "            boundaries.append((0,rhoa_max))\n",
    "            boundaries.append((0,thickness_max))\n",
    "        boundaries = tuple(boundaries[:-1])\n",
    "        # Создание начальных значений rhoa, thickness для минимизации\n",
    "        start_param=np.matmul(np.ones((N,1)),np.array([[rhoa_max/2, thickness_max/2]])).reshape(-1)[:-1]\n",
    "        \n",
    "        # минимизация\n",
    "        result = sp.optimize.minimize(fun = loss_N_layers,\n",
    "                                      x0 = start_param,\n",
    "                                      args = (loss_type, data),\n",
    "                                      method = minimization_method,\n",
    "                                      bounds = boundaries, \n",
    "                                      tol = tolerance\n",
    "                                      )\n",
    "        \n",
    "        # подобранные параметры записываются в список\n",
    "        results_list.append(result)\n",
    "        \n",
    "        # ошибка записывается в список\n",
    "        results_losses.append(result.fun)\n",
    "\n",
    "    # возвращается модели и номер с минимальным значением ошибки loss_type\n",
    "    return results_list, np.where(results_losses == np.min(results_losses))[0][0]  "
   ]
  },
  {
   "cell_type": "markdown",
   "metadata": {},
   "source": [
    "Проверил этот метод на тестовых данных из прошлого задания"
   ]
  },
  {
   "cell_type": "code",
   "execution_count": 7,
   "metadata": {},
   "outputs": [],
   "source": [
    "import matplotlib.pyplot as plt"
   ]
  },
  {
   "cell_type": "code",
   "execution_count": 8,
   "metadata": {},
   "outputs": [],
   "source": [
    "path_to_experimental_data='./BURM7.EXP'\n",
    "f=open(path_to_experimental_data)\n",
    "path_to_AB_MN_data=('./'+f.readline()).strip()\n",
    "f.close()\n",
    "dat = np.genfromtxt(path_to_experimental_data, comments= '$' , skip_header = 3)\n",
    "experimental_rhoa = dat.T[2] # измеренные кажущиеся сопротивления\n",
    "stt=np.genfromtxt(path_to_AB_MN_data,comments= '$')\n",
    "AB2 = stt.T[0] # Полуразнос"
   ]
  },
  {
   "cell_type": "code",
   "execution_count": 9,
   "metadata": {},
   "outputs": [
    {
     "name": "stderr",
     "output_type": "stream",
     "text": [
      "C:\\Users\\user\\AppData\\Local\\Packages\\PythonSoftwareFoundation.Python.3.10_qbz5n2kfra8p0\\LocalCache\\local-packages\\Python310\\site-packages\\scipy\\optimize\\_minimize.py:572: RuntimeWarning: Method COBYLA cannot handle bounds.\n",
      "  warn('Method %s cannot handle bounds.' % method,\n"
     ]
    },
    {
     "data": {
      "text/plain": [
       "3"
      ]
     },
     "execution_count": 9,
     "metadata": {},
     "output_type": "execute_result"
    }
   ],
   "source": [
    "N_layers_list=[2,3,4,5] # список из количества слоёв в моделях\n",
    "exp_data=np.array([AB2, experimental_rhoa]).T # Данные\n",
    "inverse=approx_inverse_problem(N_layers_list,exp_data) \n",
    "results=inverse[0] # модели полученные из обратной задачи \n",
    "ind=inverse[1] #  индекс модели с наименьшим loss_N_layers в results\n",
    "ind"
   ]
  },
  {
   "cell_type": "code",
   "execution_count": 11,
   "metadata": {},
   "outputs": [
    {
     "name": "stdout",
     "output_type": "stream",
     "text": [
      "\n",
      "number of layers= 2  \n",
      "param= [103.31326888  87.38895012 590.10929646] \n",
      "loss= 32.211814869831045\n",
      "\n",
      "number of layers= 3  \n",
      "param= [146.50068887   8.9540229   46.30088073  33.72614    480.33807762] \n",
      "loss= 20.11033416884827\n",
      "\n",
      "number of layers= 4  \n",
      "param= [146.327104     8.93877195  46.10875309  26.49868146 135.28264954\n",
      "  31.30891343 440.04616682] \n",
      "loss= 20.470978549240787\n",
      "\n",
      "number of layers= 5  \n",
      "param= [146.35050516   8.76012822  48.65208829  27.52960332 140.80684453\n",
      "  31.11169201 133.85464863  16.43469966 471.35989961] \n",
      "loss= 18.679554275380756\n"
     ]
    }
   ],
   "source": [
    "#Вывод количества слоёв в модели, её параметров и полученной ошибки\n",
    "for i in range (len(N_layers_list)):\n",
    "    print('\\nnumber of layers= ', N_layers_list[i],' \\nparam =',results[i].x,'\\nloss =',results[i].fun)"
   ]
  },
  {
   "cell_type": "code",
   "execution_count": 13,
   "metadata": {},
   "outputs": [
    {
     "data": {
      "text/plain": [
       "<matplotlib.legend.Legend at 0x1a354ced090>"
      ]
     },
     "execution_count": 13,
     "metadata": {},
     "output_type": "execute_result"
    },
    {
     "data": {
      "image/png": "[encoded data removed]",
      "text/plain": [
       "<Figure size 640x480 with 1 Axes>"
      ]
     },
     "metadata": {},
     "output_type": "display_data"
    }
   ],
   "source": [
    "# Визуализация\n",
    "for i in range(len(N_layers_list)):\n",
    "    if N_layers_list[i]==ind:\n",
    "        plt.scatter(AB2,aprox_rhoa_N_layers(AB2, results[i].x), c='black',label=f'{N_layers_list[i]}_layers, best loss')\n",
    "    else: plt.loglog(AB2,aprox_rhoa_N_layers(AB2, results[i].x), label=f'{N_layers_list[i]}_layers')\n",
    "plt.loglog(AB2,experimental_rhoa,c='red', label='experimental data')\n",
    "plt.legend()"
   ]
  },
  {
   "cell_type": "markdown",
   "metadata": {},
   "source": [
    "В отрисовке:\n",
    "1) из result_inv=inverse_problem(), aprox_result=aprox_inverse_problem() достать параметры среды с помощью result_.x\n",
    "2) построить на одном графике data[:][1] и inv_calculated_data=direct_problem(function_type, result_inv.x, data[:][0]), aprox_inv_calculated_data=direct_problem(function_type, aprox_result.x, data[:][0])\n",
    "3) построить разницу между data и inv_calculated_data, aprox_inv_calculated_data\n",
    "4) повторить 2 и 3 в 2D\n"
   ]
  }
 ],
 "metadata": {
  "kernelspec": {
   "display_name": "Python 3",
   "language": "python",
   "name": "python3"
  },
  "language_info": {
   "codemirror_mode": {
    "name": "ipython",
    "version": 3
   },
   "file_extension": ".py",
   "mimetype": "text/x-python",
   "name": "python",
   "nbconvert_exporter": "python",
   "pygments_lexer": "ipython3",
   "version": "3.10.11"
  }
 },
 "nbformat": 4,
 "nbformat_minor": 2
}
