{
 "cells": [
  {
   "cell_type": "code",
   "execution_count": 17,
   "metadata": {},
   "outputs": [
    {
     "ename": "ModuleNotFoundError",
     "evalue": "No module named 'direct_problem'",
     "output_type": "error",
     "traceback": [
      "\u001b[1;31m---------------------------------------------------------------------------\u001b[0m",
      "\u001b[1;31mModuleNotFoundError\u001b[0m                       Traceback (most recent call last)",
      "\u001b[1;32mc:\\Users\\ФИС\\Documents\\GitHub\\electrical_prospecting\\inverse_example.ipynb Cell 1\u001b[0m line \u001b[0;36m4\n\u001b[0;32m      <a href='vscode-notebook-cell:/c%3A/Users/%D0%A4%D0%98%D0%A1/Documents/GitHub/electrical_prospecting/inverse_example.ipynb#W0sZmlsZQ%3D%3D?line=1'>2</a>\u001b[0m \u001b[39mimport\u001b[39;00m \u001b[39mnumpy\u001b[39;00m \u001b[39mas\u001b[39;00m \u001b[39mnp\u001b[39;00m\n\u001b[0;32m      <a href='vscode-notebook-cell:/c%3A/Users/%D0%A4%D0%98%D0%A1/Documents/GitHub/electrical_prospecting/inverse_example.ipynb#W0sZmlsZQ%3D%3D?line=2'>3</a>\u001b[0m \u001b[39mimport\u001b[39;00m \u001b[39mscipy\u001b[39;00m \u001b[39mas\u001b[39;00m \u001b[39msp\u001b[39;00m\n\u001b[1;32m----> <a href='vscode-notebook-cell:/c%3A/Users/%D0%A4%D0%98%D0%A1/Documents/GitHub/electrical_prospecting/inverse_example.ipynb#W0sZmlsZQ%3D%3D?line=3'>4</a>\u001b[0m \u001b[39mfrom\u001b[39;00m \u001b[39mcode\u001b[39;00m \u001b[39mimport\u001b[39;00m inverse_problem \u001b[39mas\u001b[39;00m inv \n",
      "File \u001b[1;32mc:\\Users\\ФИС\\Documents\\GitHub\\electrical_prospecting\\code\\inverse_problem.py:3\u001b[0m\n\u001b[0;32m      1\u001b[0m \u001b[39mimport\u001b[39;00m \u001b[39mscipy\u001b[39;00m \u001b[39mas\u001b[39;00m \u001b[39msp\u001b[39;00m\n\u001b[0;32m      2\u001b[0m \u001b[39mimport\u001b[39;00m \u001b[39mnumpy\u001b[39;00m \u001b[39mas\u001b[39;00m \u001b[39mnp\u001b[39;00m\n\u001b[1;32m----> 3\u001b[0m \u001b[39mimport\u001b[39;00m \u001b[39mdirect_problem\u001b[39;00m \u001b[39mas\u001b[39;00m \u001b[39mdir\u001b[39;00m\n\u001b[0;32m      5\u001b[0m \u001b[39m# Целевые функции\u001b[39;00m\n\u001b[0;32m      7\u001b[0m \u001b[39mdef\u001b[39;00m \u001b[39mRMSE\u001b[39m(calclated_data: np\u001b[39m.\u001b[39mndarray,\n\u001b[0;32m      8\u001b[0m          refernce_data: np\u001b[39m.\u001b[39mndarray\n\u001b[0;32m      9\u001b[0m          ) \u001b[39m-\u001b[39m\u001b[39m>\u001b[39m \u001b[39mfloat\u001b[39m:\n",
      "\u001b[1;31mModuleNotFoundError\u001b[0m: No module named 'direct_problem'"
     ]
    }
   ],
   "source": [
    "import matplotlib.pyplot as plt\n",
    "import numpy as np\n",
    "import scipy as sp\n",
    "from code import inverse_problem as inv "
   ]
  },
  {
   "cell_type": "code",
   "execution_count": null,
   "metadata": {},
   "outputs": [],
   "source": [
    "path_to_experimental_data='./experimental_data/BURM7.EXP'\n",
    "f=open(path_to_experimental_data)\n",
    "path_to_AB_MN_data=('./experimental_data/'+f.readline()).strip()\n",
    "f.close()\n",
    "dat = np.genfromtxt(path_to_experimental_data, comments= '$' , skip_header = 3)\n",
    "experimental_rhoa = dat.T[2] # измеренные кажущиеся сопротивления\n",
    "stt=np.genfromtxt(path_to_AB_MN_data,comments= '$')\n",
    "AB2 = stt.T[0] # Полуразнос"
   ]
  },
  {
   "cell_type": "code",
   "execution_count": null,
   "metadata": {},
   "outputs": [],
   "source": [
    "N_layers_list=[2,3,4,5] # список из количества слоёв в моделях\n",
    "exp_data=np.array([AB2, experimental_rhoa]).T # Данные\n",
    "inverse=inv.aprox_inverse_problem_solver(N_layers_list,exp_data) \n",
    "results=inverse[0] # модели полученные из обратной задачи \n",
    "ind=inverse[1] #  индекс модели с наименьшим loss_N_layers в results\n",
    "print(ind)"
   ]
  },
  {
   "cell_type": "code",
   "execution_count": null,
   "metadata": {},
   "outputs": [],
   "source": [
    "#Вывод количества слоёв в модели, её параметров и полученной ошибки\n",
    "for i in range (len(N_layers_list)):\n",
    "    print('\\nnumber of layers= ', N_layers_list[i],' \\nparam =',results[i].x,'\\nloss =',results[i].fun)"
   ]
  },
  {
   "cell_type": "code",
   "execution_count": null,
   "metadata": {},
   "outputs": [],
   "source": [
    "# Визуализация\n",
    "for i in range(len(N_layers_list)):\n",
    "    if N_layers_list[i]==ind:\n",
    "        plt.scatter(AB2,inv.aprox_rhoa(AB2, results[i].x), c='black',label=f'{N_layers_list[i]}_layers, best loss')\n",
    "    else: plt.loglog(AB2,inv.aprox_rhoa(AB2, results[i].x), label=f'{N_layers_list[i]}_layers')\n",
    "plt.loglog(AB2,experimental_rhoa,c='red', label='experimental data')\n",
    "plt.legend()"
   ]
  }
 ],
 "metadata": {
  "kernelspec": {
   "display_name": "Python 3",
   "language": "python",
   "name": "python3"
  },
  "language_info": {
   "codemirror_mode": {
    "name": "ipython",
    "version": 3
   },
   "file_extension": ".py",
   "mimetype": "text/x-python",
   "name": "python",
   "nbconvert_exporter": "python",
   "pygments_lexer": "ipython3",
   "version": "3.12.0"
  }
 },
 "nbformat": 4,
 "nbformat_minor": 2
}
