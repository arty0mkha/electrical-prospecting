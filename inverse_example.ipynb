{
 "cells": [
  {
   "cell_type": "code",
   "execution_count": null,
   "metadata": {},
   "outputs": [],
   "source": [
    "import matplotlib.pyplot as plt\n",
    "import numpy as np\n",
    "import scipy as sp\n",
    "from code import inverse_problem as inv \n",
    "from code import direct_problem as direct "
   ]
  },
  {
   "cell_type": "code",
   "execution_count": null,
   "metadata": {},
   "outputs": [],
   "source": [
    "path_to_experimental_data='./experimental_data/BURM7.EXP'\n",
    "f=open(path_to_experimental_data)\n",
    "path_to_AB_MN_data=('./experimental_data/'+f.readline()).strip()\n",
    "f.close()\n",
    "dat = np.genfromtxt(path_to_experimental_data, comments= '$' , skip_header = 3)\n",
    "experimental_rhoa = dat.T[2] # измеренные кажущиеся сопротивления\n",
    "stt=np.genfromtxt(path_to_AB_MN_data,comments= '$')\n",
    "AB2 = stt.T[0] # Полуразнос"
   ]
  },
  {
   "cell_type": "code",
   "execution_count": null,
   "metadata": {},
   "outputs": [],
   "source": [
    "plt.loglog(AB2,experimental_rhoa,c='red', label='experimental data')\n",
    "plt.legend()"
   ]
  },
  {
   "cell_type": "code",
   "execution_count": null,
   "metadata": {},
   "outputs": [],
   "source": [
    "N_layers_list=[5] # список из количества слоёв в моделях\n",
    "exp_data=np.array([AB2, experimental_rhoa]).T # Данные\n",
    "method='U'\n",
    "start=[[100, 1,\n",
    "        150, 4,\n",
    "        400, 6,\n",
    "        17.5, 40,\n",
    "        150, 100, \n",
    "        1200]]\n",
    "bound=[[(50,150), (0.1,2),\n",
    "        (100,200), (0.1,8),\n",
    "        (100,500), (0.1,15),\n",
    "        (0,100), (0.1,60),\n",
    "        (100,300), (0.1,150), \n",
    "        (200,2000)]]"
   ]
  },
  {
   "cell_type": "markdown",
   "metadata": {},
   "source": [
    "данные сонета\n",
    "    70.33     0.58\n",
    "   208.00     3.85\n",
    "    80.92     9.23\n",
    "    50.40    33.14\n",
    "   215.62   103.32\n",
    "  1882.95     0.00\n",
    "start=[[70.33, 0.58, 208, 3.85, 80.92, 9.23, 50.40, 33.14, 215.62, 103.32, 1882.95]]"
   ]
  },
  {
   "cell_type": "code",
   "execution_count": null,
   "metadata": {},
   "outputs": [],
   "source": [
    "rk_start=[]\n",
    "for r in AB2:\n",
    "    rk_start.append(direct.calculate_apparent_resistance(start[0],method,r,num_of_zeros=10*int(1+r/200)))\n",
    "rk_start=np.array(rk_start)\n",
    "plt.loglog(AB2,rk_start, label='start_param')\n",
    "plt.loglog(AB2,experimental_rhoa,c='red', label='experimental data')\n",
    "plt.legend()\n",
    "plt.title(path_to_experimental_data.split('/')[2])\n",
    "print(inv.RMSE(rk_start,experimental_rhoa))\n",
    "print(inv.RMSPE(rk_start,experimental_rhoa),'%')"
   ]
  },
  {
   "cell_type": "code",
   "execution_count": null,
   "metadata": {},
   "outputs": [],
   "source": [
    "loss='RMSPE'\n",
    "minim='L-BFGS-B'\n",
    "inverse=inv.inverse_problem_solver(N_layers_list,method, exp_data, minimization_method=minim, loss_type=loss, tolerance=10**(-7), start=start, boundaries=bound) \n",
    "results=inverse[0] # модели полученные из обратной задачи \n",
    "ind=inverse[1] #  индекс модели с наименьшим loss_N_layers в results\n",
    "print(ind)"
   ]
  },
  {
   "cell_type": "code",
   "execution_count": null,
   "metadata": {},
   "outputs": [],
   "source": [
    "#Вывод количества слоёв в модели, её параметров и полученной ошибки\n",
    "for i in range (len(N_layers_list)):\n",
    "    print('\\nnumber of layers= ', N_layers_list[i], '\\nparam =', results[i].x, f'\\nloss {loss} =', results[i].fun)"
   ]
  },
  {
   "cell_type": "code",
   "execution_count": null,
   "metadata": {},
   "outputs": [],
   "source": [
    "# Визуализация\n",
    "for i in range(len(N_layers_list)):\n",
    "    rk=[]\n",
    "    for r in AB2:\n",
    "        rk.append(direct.calculate_apparent_resistance(results[i].x,method,r,num_of_zeros=10*int(1+r/200)))\n",
    "    rk=np.array(rk)\n",
    "    if i==ind:\n",
    "        plt.scatter(AB2,rk, c='black',label=f'{N_layers_list[i]}_layers, best loss={results[i].fun}')\n",
    "    else: plt.loglog(AB2,rk, label=f'{N_layers_list[i]}_layers')\n",
    "plt.loglog(AB2,experimental_rhoa,c='red', label='experimental data')\n",
    "plt.loglog(AB2,rk_start, label='start_param')\n",
    "plt.legend()\n",
    "plt.title(path_to_experimental_data.split('/')[2])"
   ]
  },
  {
   "cell_type": "code",
   "execution_count": null,
   "metadata": {},
   "outputs": [],
   "source": [
    "inv.RMSPE(rk,experimental_rhoa)"
   ]
  },
  {
   "cell_type": "code",
   "execution_count": null,
   "metadata": {},
   "outputs": [],
   "source": [
    "inv.RMSE(rk,experimental_rhoa)"
   ]
  }
 ],
 "metadata": {
  "kernelspec": {
   "display_name": "Python 3",
   "language": "python",
   "name": "python3"
  },
  "language_info": {
   "codemirror_mode": {
    "name": "ipython",
    "version": 3
   },
   "file_extension": ".py",
   "mimetype": "text/x-python",
   "name": "python",
   "nbconvert_exporter": "python",
   "pygments_lexer": "ipython3",
   "version": "3.12.0"
  }
 },
 "nbformat": 4,
 "nbformat_minor": 2
}
