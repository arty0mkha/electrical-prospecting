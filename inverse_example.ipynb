{
 "cells": [
  {
   "cell_type": "code",
   "execution_count": null,
   "metadata": {},
   "outputs": [],
   "source": [
    "import matplotlib.pyplot as plt\n",
    "import numpy as np\n",
    "import scipy as sp\n",
    "from .code import inverse_problem as inv "
   ]
  },
  {
   "cell_type": "code",
   "execution_count": null,
   "metadata": {},
   "outputs": [],
   "source": [
    "path_to_experimental_data='./experimental_data/BURM7.EXP'\n",
    "f=open(path_to_experimental_data)\n",
    "path_to_AB_MN_data=('./experimental_data/'+f.readline()).strip()\n",
    "f.close()\n",
    "dat = np.genfromtxt(path_to_experimental_data, comments= '$' , skip_header = 3)\n",
    "experimental_rhoa = dat.T[2] # измеренные кажущиеся сопротивления\n",
    "stt=np.genfromtxt(path_to_AB_MN_data,comments= '$')\n",
    "AB2 = stt.T[0] # Полуразнос"
   ]
  },
  {
   "cell_type": "code",
   "execution_count": null,
   "metadata": {},
   "outputs": [],
   "source": [
    "N_layers_list=[2,3,4,5] # список из количества слоёв в моделях\n",
    "exp_data=np.array([AB2, experimental_rhoa]).T # Данные\n",
    "inverse=inv.aprox_inverse_problem(N_layers_list,exp_data) \n",
    "results=inverse[0] # модели полученные из обратной задачи \n",
    "ind=inverse[1] #  индекс модели с наименьшим loss_N_layers в results\n",
    "print(ind)"
   ]
  },
  {
   "cell_type": "code",
   "execution_count": null,
   "metadata": {},
   "outputs": [],
   "source": [
    "#Вывод количества слоёв в модели, её параметров и полученной ошибки\n",
    "for i in range (len(N_layers_list)):\n",
    "    print('\\nnumber of layers= ', N_layers_list[i],' \\nparam =',results[i].x,'\\nloss =',results[i].fun)"
   ]
  },
  {
   "cell_type": "code",
   "execution_count": null,
   "metadata": {},
   "outputs": [],
   "source": [
    "# Визуализация\n",
    "for i in range(len(N_layers_list)):\n",
    "    if N_layers_list[i]==ind:\n",
    "        plt.scatter(AB2,inv.aprox_rhoa_N_layers(AB2, results[i].x), c='black',label=f'{N_layers_list[i]}_layers, best loss')\n",
    "    else: plt.loglog(AB2,inv.aprox_rhoa_N_layers(AB2, results[i].x), label=f'{N_layers_list[i]}_layers')\n",
    "plt.loglog(AB2,experimental_rhoa,c='red', label='experimental data')\n",
    "plt.legend()"
   ]
  }
 ],
 "metadata": {
  "kernelspec": {
   "display_name": "Python 3",
   "language": "python",
   "name": "python3"
  },
  "language_info": {
   "codemirror_mode": {
    "name": "ipython",
    "version": 3
   },
   "file_extension": ".py",
   "mimetype": "text/x-python",
   "name": "python",
   "nbconvert_exporter": "python",
   "pygments_lexer": "ipython3",
   "version": "3.12.0"
  }
 },
 "nbformat": 4,
 "nbformat_minor": 2
}
