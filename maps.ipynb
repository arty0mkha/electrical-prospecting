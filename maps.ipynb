{
 "cells": [
  {
   "cell_type": "code",
   "execution_count": 13,
   "metadata": {},
   "outputs": [],
   "source": [
    "import numpy as np\n",
    "import copy\n",
    "from code_folder.direct_problem import calculate_apparent_resistance\n",
    "from code_folder.inverse_problem import RMSPE"
   ]
  },
  {
   "cell_type": "code",
   "execution_count": 19,
   "metadata": {},
   "outputs": [],
   "source": [
    "def change_param(param_,change_indexes,news_):\n",
    "    changed_param=copy.copy(param_)\n",
    "    for i in range(len(change_indexes)):\n",
    "        changed_param[change_indexes[i]]=news_[i]\n",
    "    return changed_param\n",
    "\n",
    "def params_map(param_,change_indexes_,size,change):\n",
    "    new_first_param=np.logspace(np.log10(param_[change_indexes_[0]]/change), np.log10(param_[change_indexes_[0]]*change), size)\n",
    "    new_second_param=np.logspace(np.log10(param_[change_indexes_[1]]/change), np.log10(param_[change_indexes_[1]]*change), size)\n",
    "    param_map=np.zeros(shape=(size, size, len(param_)))\n",
    "    for i in range(size):\n",
    "        for j in range(size):\n",
    "            param_map[i][j]=change_param(param_,change_indexes_, [new_first_param[i], new_second_param[j]])\n",
    "    return param_map\n",
    "\n",
    "def calc_apparent_resistance_data(r,param_,change_indexes_,size,method,change):\n",
    "    param_map_=params_map(param_,change_indexes_,size,change)\n",
    "    resistance_map_=np.zeros(shape=(size, size, r.shape[0]))\n",
    "    for i in range(size):\n",
    "        for j in range(size):\n",
    "            for k in range(r.shape[0]):\n",
    "                resistance_map_[i][j][k]=calculate_apparent_resistance(list(param_map_[i][j]),method,r[k],10+int(r[k]/200))\n",
    "    return resistance_map_\n",
    "\n",
    "def calc_loss_map(r,param_,change_indexes_,size,method,change=10):\n",
    "    resistance_map=calc_apparent_resistance_data(r,param_,change_indexes_,size,method,change)\n",
    "    loss_map=np.zeros(shape=(size, size))\n",
    "    for i in range(size):\n",
    "        for j in range(size):\n",
    "            loss_map[i][j]=RMSPE(resistance_map[i][j],resistance_map[int(size/2)][int(size/2)])\n",
    "    return loss_map\n"
   ]
  },
  {
   "cell_type": "code",
   "execution_count": null,
   "metadata": {},
   "outputs": [],
   "source": [
    "def optimized_megafunc(r,param_,change_indexes_,size,method,change=10):\n",
    "    "
   ]
  },
  {
   "cell_type": "code",
   "execution_count": 17,
   "metadata": {},
   "outputs": [],
   "source": [
    "r=np.logspace(-1,3,25)\n",
    "param=[100,50,\n",
    "       30, 20,\n",
    "       60,20,\n",
    "       150]\n",
    "method='U'\n",
    "size=21\n",
    "change_indexes=[1,3]\n"
   ]
  },
  {
   "cell_type": "code",
   "execution_count": null,
   "metadata": {},
   "outputs": [],
   "source": [
    "map=calc_loss_map(r,param,change_indexes,size,method)"
   ]
  },
  {
   "cell_type": "code",
   "execution_count": 21,
   "metadata": {},
   "outputs": [
    {
     "name": "stdout",
     "output_type": "stream",
     "text": [
      "1min 21s ± 3.08 s per loop (mean ± std. dev. of 7 runs, 1 loop each)\n"
     ]
    }
   ],
   "source": [
    "%%timeit\n",
    "calc_resistance_map(r,param,change_indexes,size,method,change=10)"
   ]
  }
 ],
 "metadata": {
  "kernelspec": {
   "display_name": "Python 3",
   "language": "python",
   "name": "python3"
  },
  "language_info": {
   "codemirror_mode": {
    "name": "ipython",
    "version": 3
   },
   "file_extension": ".py",
   "mimetype": "text/x-python",
   "name": "python",
   "nbconvert_exporter": "python",
   "pygments_lexer": "ipython3",
   "version": "3.12.0"
  }
 },
 "nbformat": 4,
 "nbformat_minor": 2
}
